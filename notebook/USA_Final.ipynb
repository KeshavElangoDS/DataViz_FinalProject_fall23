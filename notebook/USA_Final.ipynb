{
 "cells": [
  {
   "cell_type": "markdown",
   "metadata": {},
   "source": [
    "# Airplane Data Visualization and Analysis"
   ]
  },
  {
   "cell_type": "code",
   "execution_count": null,
   "metadata": {},
   "outputs": [],
   "source": [
    "import pandas as pd\n",
    "import numpy as np\n",
    "import holoviews as hv\n",
    "import hvplot.pandas\n",
    "import calendar\n",
    "import panel as pn\n",
    "import geoviews as gv \n",
    "import geopandas as gpd\n",
    "from bokeh.models import HoverTool, Legend"
   ]
  },
  {
   "cell_type": "markdown",
   "metadata": {},
   "source": [
    "## Cleaning Merged Passenger Datasets \n",
    "\n",
    "To analyze passenger data from both the most busy and least busy airports, we read the merged dataset `passengers_busy_airports.csv` and `passengers_less_busy_airports.csv` using `read_csv` function of pandas. To get more insight into our data, we use `info` and `head` functions so that we can process our datasets."
   ]
  },
  {
   "cell_type": "markdown",
   "metadata": {},
   "source": [
    "Reading the cleaned dataset on passengers from the most busy airports `passengers_busy_airports.csv` and the least busy airports `passengers_less_busy_airports.csv` using read_csv function of pandas"
   ]
  },
  {
   "cell_type": "code",
   "execution_count": null,
   "metadata": {},
   "outputs": [],
   "source": [
    "psg_busy = pd.read_csv('data/passengers_busy_airports.csv')\n",
    "psg_l_busy = pd.read_csv('data/passengers_less_busy_airports.csv')"
   ]
  },
  {
   "cell_type": "code",
   "execution_count": null,
   "metadata": {},
   "outputs": [],
   "source": [
    "psg_busy.info()"
   ]
  },
  {
   "cell_type": "code",
   "execution_count": null,
   "metadata": {},
   "outputs": [],
   "source": [
    "psg_busy"
   ]
  },
  {
   "cell_type": "markdown",
   "metadata": {},
   "source": [
    "Now we remove rows with the label 'TOTAL' from the 'Month' column in both datasets. Additionally, as per the datatype for each columns of `psg_busy`, we are able to see that the numbers are separated by commas, so we converts numeric columns by using `map` function combined with a lambda function that removes commas and converts the values to integers, ensuring consistency for further processing and analysis. To improve data visualization, the 'Month' column in the most busy airports dataset is updated with abbreviated month names using `calendar.month_abbr`."
   ]
  },
  {
   "cell_type": "code",
   "execution_count": null,
   "metadata": {},
   "outputs": [],
   "source": [
    "busy_passengers = psg_busy[psg_busy.Month != 'TOTAL'].map(\n",
    "    lambda x: int(x.replace(',','')) if type(x) == object and not x.isalpha() else x)\n",
    "\n",
    "l_busy_passengers = psg_l_busy[psg_l_busy.Month != 'TOTAL'].map(\n",
    "    lambda x: int(x.replace(',','')) if type(x) == object and not x.isalpha() else x)\n",
    "\n",
    "busy_passengers['Month'] = busy_passengers['Month'].map(\n",
    "    lambda x: calendar.month_abbr[int(x)])\n",
    "\n",
    "columns_to_convert = ['DOMESTIC', 'INTERNATIONAL', 'TOTAL']\n",
    "\n",
    "for column in columns_to_convert:\n",
    "    busy_passengers[column] = busy_passengers[column].str.replace(',', '').astype(int)"
   ]
  },
  {
   "cell_type": "markdown",
   "metadata": {},
   "source": [
    "For each of the airports, we scale down the data in order of 10 raised to power 4."
   ]
  },
  {
   "cell_type": "code",
   "execution_count": null,
   "metadata": {},
   "outputs": [],
   "source": [
    "psg_busy_airpt = []\n",
    "busy_cities = ['Atlanta', 'Dallas', 'NewYorkCity', 'Seattle', 'Philadelphia']\n",
    "less_busy_cities = ['Boise','Kansas','Oakland','Sacramento','Santa']\n",
    "\n",
    "cities = {city : busy_passengers.City == city for city in busy_cities}\n",
    "\n",
    "busy_passengers['DOMESTIC'] = busy_passengers['DOMESTIC'].map(lambda x: x /(10**4))\n",
    "busy_passengers['INTERNATIONAL'] = busy_passengers['INTERNATIONAL'].apply(lambda x : x / (10**4))\n",
    "busy_passengers['TOTAL'] = busy_passengers['TOTAL'].apply(lambda x : x / (10**4))"
   ]
  },
  {
   "cell_type": "code",
   "execution_count": null,
   "metadata": {},
   "outputs": [],
   "source": [
    "busy_passengers"
   ]
  },
  {
   "cell_type": "markdown",
   "metadata": {},
   "source": [
    "# Total Rows_Busy Airports"
   ]
  },
  {
   "cell_type": "markdown",
   "metadata": {},
   "source": [
    "We are gathering the rows from the passenger and airfare dataset to create a separate dataframe for the yearly total"
   ]
  },
  {
   "cell_type": "code",
   "execution_count": null,
   "metadata": {},
   "outputs": [],
   "source": [
    "p_b_total_rows = psg_busy[psg_busy['Month'] == 'TOTAL'].loc[:, psg_busy.columns != 'Month']\n",
    "p_l_b_total_rows = psg_l_busy[psg_l_busy['Month'] == 'TOTAL'].loc[:, psg_l_busy.columns != 'Month']\n",
    "airfare_l_busy = pd.read_csv('data/airfare_less_busy_airports.csv')\n",
    "airfare_busy_yearly = airfare_l_busy.groupby(['Year', 'City']).sum().reset_index()\n",
    "airfare_l_busy_yearly = airfare_l_busy.groupby(['Year', 'City']).sum().reset_index()\n",
    "airfare_l_busy_yearly .head(25).loc[:, airfare_l_busy_yearly.columns != 'Quarter']"
   ]
  },
  {
   "cell_type": "markdown",
   "metadata": {},
   "source": [
    "# Airfare data"
   ]
  },
  {
   "cell_type": "markdown",
   "metadata": {},
   "source": [
    "The airfare data is further grouped based on year and City to gather the yearly data"
   ]
  },
  {
   "cell_type": "code",
   "execution_count": null,
   "metadata": {},
   "outputs": [],
   "source": [
    "years_list = list(range(2005, 2023))\n",
    "year_masks = {year: busy_passengers.Year == year for year in years_list}\n",
    "\n",
    "busy_cities = ['Atlanta', 'Dallas', 'New York', 'Seattle', 'Philadelphia']\n",
    "hv.extension('bokeh')\n",
    "airfare_busy = pd.read_csv('data/airfare_busy_airports.csv')\n",
    "\n",
    "grouped_airfare_busy = airfare_busy.groupby(by=['Year','City']).mean().reset_index()\n",
    "grouped_airfare_busy.drop(columns='Quarter', inplace=True)\n",
    "grouped_airfare_busy\n"
   ]
  },
  {
   "cell_type": "code",
   "execution_count": null,
   "metadata": {},
   "outputs": [],
   "source": [
    "grp_airfare_busy_airpt= []\n",
    "cities = {city : busy_passengers.City == city for city in busy_cities}\n",
    "airfares = {city : grouped_airfare_busy.City == city for city in busy_cities}"
   ]
  },
  {
   "cell_type": "code",
   "execution_count": null,
   "metadata": {},
   "outputs": [],
   "source": [
    "for city,mask in airfares.items():\n",
    "    grp_airfare_busy_airpt.append(\n",
    "        grouped_airfare_busy[airfares[city]].hvplot.line(x='Year',y='Current_City_Avg',label = f'{city}')\n",
    "        * grouped_airfare_busy[airfares[city]].hvplot.scatter(x='Year',y='Current_City_Avg', label = f'{city}')\n",
    "        )\n",
    "hv.extension('bokeh')\n",
    "(\n",
    "grp_airfare_busy_airpt[0] * grp_airfare_busy_airpt[1] * grp_airfare_busy_airpt[2] * grp_airfare_busy_airpt[3]\n",
    "* grp_airfare_busy_airpt[4]\n",
    ").opts(\n",
    "    title = 'Airfare Price changes',\n",
    "    ylabel = 'Current Cuty Avg price (USD)',\n",
    "    width = 900,\n",
    "    height = 500\n",
    ")"
   ]
  },
  {
   "cell_type": "markdown",
   "metadata": {},
   "source": [
    "The plot above depicts the Airfare price variation in `USD` across the years `1995 to 2023`."
   ]
  },
  {
   "cell_type": "markdown",
   "metadata": {},
   "source": [
    "## International data Plotting across City"
   ]
  },
  {
   "cell_type": "markdown",
   "metadata": {},
   "source": [
    "Now to get further insight on the passenger count across the airports with the airfare data, we group these data based on `Year` and `City`"
   ]
  },
  {
   "cell_type": "code",
   "execution_count": null,
   "metadata": {},
   "outputs": [],
   "source": [
    "combine_psg_airfare = grouped_airfare_busy.merge(p_b_total_rows, left_on=('Year','City'), right_on=('Year','City'))\n",
    "\n",
    "columns_to_convert = ['DOMESTIC', 'INTERNATIONAL', 'TOTAL']\n",
    "\n",
    "for column in columns_to_convert:\n",
    "    combine_psg_airfare[column] = combine_psg_airfare[column].str.replace(',', '').astype(int)\n",
    "\n",
    "combine_psg_airfare['INTERNATIONAL'] = combine_psg_airfare['INTERNATIONAL'].apply(lambda x : x / (10**4))\n",
    "combine_psg_airfare['DOMESTIC'] = combine_psg_airfare['DOMESTIC'].apply(lambda x : x / (10**4))\n",
    "combine_psg_airfare['TOTAL'] = combine_psg_airfare['TOTAL'].apply(lambda x : x / (10**4))"
   ]
  },
  {
   "cell_type": "code",
   "execution_count": null,
   "metadata": {},
   "outputs": [],
   "source": [
    "international_busy_cities = []\n",
    "\n",
    "years_list = list(range(2003, 2023))\n",
    "\n",
    "for city,mask in airfares.items():\n",
    "   international_busy_cities.append(\n",
    "      combine_psg_airfare[combine_psg_airfare.City == city].hvplot.line(y='Current_City_Avg',x='INTERNATIONAL',label = f'{city}').opts(tools = ['hover'])\n",
    "      * combine_psg_airfare[combine_psg_airfare.City == city].hvplot.scatter(y='Current_City_Avg',x='INTERNATIONAL', label = f'{city}').opts(tools = ['hover'])\n",
    "      )\n",
    "\n",
    "(\n",
    "   international_busy_cities[0] * international_busy_cities[1] * international_busy_cities[2] * international_busy_cities[3] * international_busy_cities[4]\n",
    ").opts(\n",
    "    title = 'Passengers count in busy airports and airfare across cities',\n",
    "    xlabel = 'International Passengers ($10^{4}$)',\n",
    "    ylabel = 'Current_City_Avg Airfare value in USD',\n",
    "    tools = ['hover'],\n",
    "    height=700,\n",
    "    width = 900,\n",
    "    show_grid=True,\n",
    "    xlim = (20, 750)\n",
    ")"
   ]
  },
  {
   "cell_type": "markdown",
   "metadata": {},
   "source": [
    "### Domestic Data plot across cities - Busy Airports"
   ]
  },
  {
   "cell_type": "markdown",
   "metadata": {},
   "source": [
    "Similar to the International passenger count, we also plot the Domestic data."
   ]
  },
  {
   "cell_type": "code",
   "execution_count": null,
   "metadata": {},
   "outputs": [],
   "source": [
    "domestic_busy_cities = []\n",
    "\n",
    "for city,mask in airfares.items():\n",
    "    domestic_busy_cities.append(\n",
    "    combine_psg_airfare[combine_psg_airfare.City == city].hvplot.line(y='Current_City_Avg',x='DOMESTIC',label = f'{city}')\n",
    "    * combine_psg_airfare[combine_psg_airfare.City == city].hvplot.scatter(y='Current_City_Avg',x='DOMESTIC', label = f'{city}')\n",
    "    )\n",
    "\n",
    "(\n",
    "    domestic_busy_cities[0] *\n",
    "   domestic_busy_cities[1] * domestic_busy_cities[2] * domestic_busy_cities[3] * domestic_busy_cities[4]\n",
    ").opts(\n",
    "    title = 'Domestic Passengers in busy airports and airfare from 2003 till 2023',\n",
    "    xlabel = 'Domestic Passengers ($10^{4}$)',\n",
    "    ylabel = 'Current_City_Avg Airfare value in USD',\n",
    "    height=700,\n",
    "    width = 1000,\n",
    "    show_grid=True,\n",
    "    xlim = (400, 5000)\n",
    ")"
   ]
  },
  {
   "cell_type": "markdown",
   "metadata": {},
   "source": [
    "## Less Busy Airport data with airfare"
   ]
  },
  {
   "cell_type": "markdown",
   "metadata": {},
   "source": [
    "As we have plotted the busy airport data, we process to perform the same for less busy airport."
   ]
  },
  {
   "cell_type": "code",
   "execution_count": null,
   "metadata": {},
   "outputs": [],
   "source": [
    "airfare_l_busy_yearly = airfare_l_busy.groupby(['Year', 'City']).mean().reset_index()\n",
    "\n",
    "# Total passangers per year across cities\n",
    "p_l_b_total_rows = psg_l_busy[psg_l_busy['Month'] == 'TOTAL'].loc[:, psg_l_busy.columns != 'Month']\n",
    "\n",
    "combine_psg_airfare_less_busy = airfare_l_busy_yearly.merge(p_l_b_total_rows, left_on=('Year','City'), right_on=('Year','City'))\n",
    "combine_psg_airfare_less_busy\n",
    "\n",
    "# airfare_l_busy_yearly"
   ]
  },
  {
   "cell_type": "code",
   "execution_count": null,
   "metadata": {},
   "outputs": [],
   "source": [
    "columns_to_convert = ['DOMESTIC', 'INTERNATIONAL', 'TOTAL']\n",
    "\n",
    "for column in columns_to_convert:\n",
    "    combine_psg_airfare_less_busy[column] = combine_psg_airfare_less_busy[column].str.replace(',', '').astype(int)\n",
    "\n",
    "combine_psg_airfare_less_busy['INTERNATIONAL'] = combine_psg_airfare_less_busy['INTERNATIONAL'].apply(lambda x : x / (10**4))\n",
    "combine_psg_airfare_less_busy['DOMESTIC'] = combine_psg_airfare_less_busy['DOMESTIC'].apply(lambda x : x / (10**4))\n",
    "combine_psg_airfare_less_busy['TOTAL'] = combine_psg_airfare_less_busy['TOTAL'].apply(lambda x : x / (10**4))\n",
    "combine_psg_airfare_less_busy"
   ]
  },
  {
   "cell_type": "markdown",
   "metadata": {},
   "source": [
    "We group the yearly value for each year across cities. This grouping helps with combining the passenger count and the airfare data."
   ]
  },
  {
   "cell_type": "code",
   "execution_count": null,
   "metadata": {},
   "outputs": [],
   "source": [
    "grouped_airfare_less_busy = airfare_l_busy.groupby(by=['Year','City']).mean().reset_index()\n",
    "grouped_airfare_less_busy.drop(columns='Quarter', inplace=True)\n",
    "grouped_airfare_less_busy"
   ]
  },
  {
   "cell_type": "markdown",
   "metadata": {},
   "source": [
    "### International flight Plot across City for less Busy Airports"
   ]
  },
  {
   "cell_type": "code",
   "execution_count": null,
   "metadata": {},
   "outputs": [],
   "source": [
    "less_busy_cities = ['Boise','Kansas City','Oakland','Sacramento','Santa Ana']\n",
    "l_busy_airfares = {city : grouped_airfare_less_busy.City == city for city in less_busy_cities}"
   ]
  },
  {
   "cell_type": "code",
   "execution_count": null,
   "metadata": {},
   "outputs": [],
   "source": [
    "international_less_busy_cities = []\n",
    "\n",
    "for city,mask in l_busy_airfares.items():\n",
    "     international_less_busy_cities.append(\n",
    "        combine_psg_airfare_less_busy[combine_psg_airfare_less_busy.City == city].hvplot.line(y='Current_City_Avg',x='INTERNATIONAL',label = f'{city}')\n",
    "        * combine_psg_airfare_less_busy[combine_psg_airfare_less_busy.City == city].hvplot.scatter(\n",
    "             y='Current_City_Avg',x='INTERNATIONAL', label = f'{city}').opts(tools = ['hover'])\n",
    "        )\n",
    "\n",
    "(\n",
    "     international_less_busy_cities[0] * international_less_busy_cities[1] * international_less_busy_cities[2] * international_less_busy_cities[3] \n",
    "   * international_less_busy_cities[4]\n",
    "   \n",
    ").opts(\n",
    "    title = 'International Passengers count in less busy airports and airfare across Cities',\n",
    "    xlabel = 'International Passengers ($10^{4}$)',\n",
    "    ylabel = 'Current_City_Avg Airfare value in USD',\n",
    "    height=700,\n",
    "    width = 1300,\n",
    "    show_grid=True,\n",
    "    xlim = (-50, 25000)\n",
    ")"
   ]
  },
  {
   "cell_type": "markdown",
   "metadata": {},
   "source": [
    "From the above plot, we are able to see that `Sacramento` has a huge difference in the number of International passengers along with the airfare"
   ]
  },
  {
   "cell_type": "markdown",
   "metadata": {},
   "source": [
    "### Domestic data for Less Busy airports across city\n"
   ]
  },
  {
   "cell_type": "code",
   "execution_count": null,
   "metadata": {},
   "outputs": [],
   "source": [
    "domestic_less_busy_cities = []\n",
    "\n",
    "for city,mask in l_busy_airfares.items():\n",
    "     domestic_less_busy_cities.append(\n",
    "        combine_psg_airfare_less_busy[combine_psg_airfare_less_busy.City == city].hvplot.line(y='Current_City_Avg',x='DOMESTIC',label = f'{city}')\n",
    "        * combine_psg_airfare_less_busy[combine_psg_airfare_less_busy.City == city].hvplot.scatter(y='Current_City_Avg',x='DOMESTIC', label = f'{city}').opts(tools = ['hover'])\n",
    "        )\n",
    "\n",
    "(\n",
    "     domestic_less_busy_cities[0] * domestic_less_busy_cities[1] * domestic_less_busy_cities[2] * domestic_less_busy_cities[3] \n",
    "   * domestic_less_busy_cities[4]\n",
    "   \n",
    ").opts(\n",
    "    title = 'Domestic Passengers count in less busy airports and airfare across Cities',\n",
    "    xlabel = 'Domestic Passengers ($10^{4}$)',\n",
    "    ylabel = 'Current_City_Avg Airfare value in USD',\n",
    "    height=700,\n",
    "    width = 1300,\n",
    "    show_grid=True,\n",
    "    xlim = (-50, 90000)\n",
    ")"
   ]
  },
  {
   "cell_type": "markdown",
   "metadata": {},
   "source": [
    "### Domestic Count across busy and less busy airports"
   ]
  },
  {
   "cell_type": "code",
   "execution_count": null,
   "metadata": {},
   "outputs": [],
   "source": [
    "(\n",
    "  domestic_busy_cities[0] * domestic_busy_cities[1] * domestic_busy_cities[2] * domestic_busy_cities[3] \n",
    "   * domestic_busy_cities[4] *\n",
    "  domestic_less_busy_cities[0] * domestic_less_busy_cities[1] * domestic_less_busy_cities[2] * domestic_less_busy_cities[3] \n",
    "   * domestic_less_busy_cities[4]\n",
    "   \n",
    " ).opts(\n",
    "    title = 'Domestic Passengers count in airports and airfare across Cities',\n",
    "    xlabel = 'Domestic Passengers ($10^{4}$)',\n",
    "    ylabel = 'Current_City_Avg Airfare value in USD',\n",
    "    height=700,\n",
    "    width = 1300,\n",
    "    show_grid=True,\n",
    "    xlim = (0, 5000),\n",
    "    ylim = (0, 500)\n",
    ")"
   ]
  },
  {
   "cell_type": "markdown",
   "metadata": {},
   "source": [
    "### International Count across busy and less busy airports"
   ]
  },
  {
   "cell_type": "code",
   "execution_count": null,
   "metadata": {},
   "outputs": [],
   "source": [
    "\n",
    "(\n",
    "   international_busy_cities[0] * international_busy_cities[1] * international_busy_cities[2] * international_busy_cities[3] * international_busy_cities[4]\n",
    "   * international_less_busy_cities[0] * international_less_busy_cities[1] * international_less_busy_cities[2] * international_less_busy_cities[3] \n",
    "   * international_less_busy_cities[4]\n",
    ").opts(\n",
    "    title = 'International Passengers  airfare across cities',\n",
    "    xlabel = 'International Passengers ($10^{4}$)',\n",
    "    ylabel = 'Current_City_Avg Airfare value in USD',\n",
    "    tools = ['hover'],\n",
    "    height=700,\n",
    "    width = 1200,\n",
    "    show_grid=True,\n",
    "    xlim = (-50, 700),\n",
    "    ylim = (0, 800)\n",
    ")"
   ]
  },
  {
   "cell_type": "code",
   "execution_count": null,
   "metadata": {},
   "outputs": [],
   "source": [
    "domestic_less_busy_cities = []\n",
    "\n",
    "for city,mask in l_busy_airfares.items():\n",
    "     domestic_less_busy_cities.append(\n",
    "        combine_psg_airfare_less_busy[combine_psg_airfare_less_busy.City == city].hvplot.line(y='Current_City_Avg',x='DOMESTIC',label = f'{city}')\n",
    "        * combine_psg_airfare_less_busy[combine_psg_airfare_less_busy.City == city].hvplot.scatter(y='Current_City_Avg',x='DOMESTIC', label = f'{city}').opts(tools = ['hover'])\n",
    "        )\n",
    "\n",
    "(\n",
    "     domestic_less_busy_cities[0] * domestic_less_busy_cities[1] * domestic_less_busy_cities[2] * domestic_less_busy_cities[3] \n",
    "   * domestic_less_busy_cities[4]\n",
    "   \n",
    ").opts(\n",
    "    title = 'Domestic Passengers count in less busy airports and airfare across Cities',\n",
    "    xlabel = 'Domestic Passengers ($10^{4}$)',\n",
    "    ylabel = 'Current_City_Avg Airfare value in USD',\n",
    "    height=700,\n",
    "    width = 1300,\n",
    "    show_grid=True,\n",
    "    xlim = (-50, 800)\n",
    ")\n",
    "\n",
    "domestic_busy_cities = []\n",
    "\n",
    "for city,mask in airfares.items():\n",
    "    domestic_busy_cities.append(\n",
    "    combine_psg_airfare[combine_psg_airfare.City == city].hvplot.line(y='Current_City_Avg',x='DOMESTIC',label = f'{city}')\n",
    "    * combine_psg_airfare[combine_psg_airfare.City == city].hvplot.scatter(y='Current_City_Avg',x='DOMESTIC', label = f'{city}')\n",
    "    )\n",
    "\n",
    "(\n",
    "    domestic_busy_cities[0] *\n",
    "   domestic_busy_cities[1] * domestic_busy_cities[2] * domestic_busy_cities[3] * domestic_busy_cities[4]\n",
    ").opts(\n",
    "    title = 'Domestic Passengers in busy airports and airfare from 2003 till 2023',\n",
    "    xlabel = 'Domestic Passengers ($10^{4}$)',\n",
    "    ylabel = 'Current_City_Avg Airfare value in USD',\n",
    "    height=700,\n",
    "    width = 1000,\n",
    "    show_grid=True,\n",
    "    xlim = (400, 5000)\n",
    ")"
   ]
  },
  {
   "cell_type": "markdown",
   "metadata": {},
   "source": [
    "## Comparing International data across 10 cities"
   ]
  },
  {
   "cell_type": "code",
   "execution_count": null,
   "metadata": {},
   "outputs": [],
   "source": [
    "combine_psg_airfare_less_busy.drop(columns='Quarter', inplace=True)"
   ]
  },
  {
   "cell_type": "code",
   "execution_count": null,
   "metadata": {},
   "outputs": [],
   "source": [
    "domestic_data = pd.concat([combine_psg_airfare,combine_psg_airfare_less_busy])"
   ]
  },
  {
   "cell_type": "markdown",
   "metadata": {},
   "source": [
    "- Here for this dynamic plot, we use `buttons` to indicate the `cities`.\n",
    "- Since the passengers and the airfare values are numbers, we use the `Range Slider`.\n",
    "- The `Year` being a list is also used to provide dynamic input to teh scatter plot for comparing the Passengers across cities."
   ]
  },
  {
   "cell_type": "code",
   "execution_count": null,
   "metadata": {},
   "outputs": [],
   "source": [
    "\n",
    "busy_cities = ['Atlanta', 'Dallas', 'New York', 'Seattle', 'Philadelphia']\n",
    "less_busy_cities = ['Boise','Kansas City','Oakland','Sacramento','Santa Ana']\n",
    "\n",
    "button_group = pn.widgets.CheckButtonGroup(\n",
    "            name='success', button_type='success', button_style='outline'\n",
    "            , options=['Atlanta', 'Dallas', 'New York', 'Seattle', 'Philadelphia','Boise','Kansas City','Oakland','Sacramento','Santa Ana']\n",
    "            , value=['New York', 'Seattle', 'Sacramento']\n",
    "        )\n",
    "\n",
    "x_slider = pn.widgets.RangeSlider(\n",
    "    name='Passenger Count',\n",
    "    start=0,\n",
    "    end=25000,\n",
    "    step=25,\n",
    "    value=(0, 25000)\n",
    ")\n",
    "\n",
    "y_slider = pn.widgets.RangeSlider(\n",
    "    name='Avg City Airfare',\n",
    "    start=200,\n",
    "    end=1600,\n",
    "    step=25,\n",
    "    value=(0, 1600)\n",
    ")\n",
    "\n",
    "year_slider = pn.widgets.RangeSlider(\n",
    "    name='Year',\n",
    "    start=2003,\n",
    "    end=2023,\n",
    "    step=1,\n",
    "    value=(2003, 2023)\n",
    ")\n",
    "\n",
    "# tell the plotting up front what it depends on!, adding a decorator(@)\n",
    "@pn.depends(labels=button_group, x_range=x_slider, y_range=y_slider, year_mask=year_slider)\n",
    "def plot_my_data(labels, x_range, y_range, year_mask):\n",
    "    \n",
    "    mask = ((domestic_data.City.isin(labels)) & domestic_data.INTERNATIONAL.between(*x_range) & domestic_data.Current_City_Avg.between(*y_range)\n",
    "             & domestic_data.Year.between(*year_mask))\n",
    "    return (domestic_data[mask].hvplot.scatter(\n",
    "        y='Current_City_Avg',\n",
    "        x='INTERNATIONAL',\n",
    "        hover_cols = ['Year'],\n",
    "        color = 'City',\n",
    "        size = 40,\n",
    "        yformatter='$ %.0f',\n",
    "        # xformatter = '%.0f*10^4'\n",
    "        xlabel = 'INTERNATIONAL($10^{4}$)'\n",
    "    ) \n",
    "    ).opts(\n",
    "        title='International Passenger Data across Cities',\n",
    "        fontsize = 14\n",
    "    )\n",
    "\n",
    "# construct a `hv.DynamicMap` from out plotting function!\n",
    "pn.Column(\n",
    "    button_group,\n",
    "   pn.Row(\n",
    "        hv.DynamicMap(plot_my_data).opts(\n",
    "        width = 900,\n",
    "        height = 600\n",
    "    ),\n",
    "    pn.Column(    \n",
    "        x_slider,\n",
    "        y_slider,\n",
    "        year_slider\n",
    "    )\n",
    "   )\n",
    ") \n"
   ]
  },
  {
   "cell_type": "code",
   "execution_count": null,
   "metadata": {},
   "outputs": [],
   "source": [
    "\n",
    "busy_cities = ['Atlanta', 'Dallas', 'New York', 'Seattle', 'Philadelphia']\n",
    "less_busy_cities = ['Boise','Kansas City','Oakland','Sacramento','Santa Ana']\n",
    "\n",
    "button_group = pn.widgets.CheckButtonGroup(\n",
    "            name='success', button_type='success', button_style='outline'\n",
    "            , options=['Atlanta', 'Dallas', 'New York', 'Seattle', 'Philadelphia','Boise','Kansas City','Oakland','Sacramento','Santa Ana']\n",
    "            , value=['New York', 'Seattle', 'Sacramento']\n",
    "        )\n",
    "\n",
    "\n",
    "x_slider = pn.widgets.RangeSlider(\n",
    "    name='Passenger Count',\n",
    "    start=0,\n",
    "    end=80000,\n",
    "    step=25,\n",
    "    value=(0, 80000)\n",
    ")\n",
    "\n",
    "y_slider = pn.widgets.RangeSlider(\n",
    "    name='Avg City Airfare',\n",
    "    start=200,\n",
    "    end=1600,\n",
    "    step=25,\n",
    "    value=(0, 1600)\n",
    ")\n",
    "\n",
    "year_slider = pn.widgets.RangeSlider(\n",
    "    name='Year',\n",
    "    start=2003,\n",
    "    end=2023,\n",
    "    step=1,\n",
    "    value=(2003, 2023)\n",
    ")\n",
    "\n",
    "# tell the plotting up front what it depends on!, adding a decorator(@)\n",
    "@pn.depends(labels=button_group, x_range=x_slider, y_range=y_slider, year_mask=year_slider)\n",
    "def plot_my_data(labels, x_range, y_range, year_mask):\n",
    "    \n",
    "    mask = ((domestic_data.City.isin(labels)) & domestic_data.DOMESTIC.between(*x_range) \n",
    "            & domestic_data.Current_City_Avg.between(*y_range) & domestic_data.Year.between(*year_mask))\n",
    "    return (domestic_data[mask].hvplot.scatter(\n",
    "        y='Current_City_Avg',\n",
    "        x='DOMESTIC',\n",
    "        hover_cols = ['Year'],\n",
    "        color = 'City',\n",
    "        size = 40,\n",
    "        yformatter='$ %.0f',\n",
    "        # xformatter = '%.0f*10^4'\n",
    "        xlabel = 'DOMESTIC (in $10^{4}$)'\n",
    "    ) \n",
    "    ).opts(\n",
    "        title='DOMESTIC Passenger Data across Cities',\n",
    "        fontsize = 14\n",
    "    )\n",
    "\n",
    "# construct a `hv.DynamicMap` from out plotting function!\n",
    "pn.Column(\n",
    "    button_group,\n",
    "   pn.Row(\n",
    "        hv.DynamicMap(plot_my_data).opts(\n",
    "        width = 900,\n",
    "        height = 600\n",
    "    ),\n",
    "    pn.Column(    \n",
    "        x_slider,\n",
    "        y_slider,\n",
    "        year_slider\n",
    "    )\n",
    "   )\n",
    ") \n"
   ]
  },
  {
   "cell_type": "markdown",
   "metadata": {},
   "source": [
    "## GeoViews Plot on different cities"
   ]
  },
  {
   "cell_type": "markdown",
   "metadata": {},
   "source": [
    "Here we are plotting the different cities on USA map wherein the color is based on `City` and the size is based on `Latitude`."
   ]
  },
  {
   "cell_type": "code",
   "execution_count": null,
   "metadata": {},
   "outputs": [],
   "source": [
    "dict_busy_cities = {'Boise': 'Boise, ID','Kansas City': 'Kansas City, MO','Oakland': 'Oakland, CA','Sacramento': 'Sacramento, CA',\n",
    "                    'Santa Ana': 'Santa Ana, CA', 'Atlanta': 'Atlanta, GA', 'Dallas': 'Dallas, TX' , 'New York': 'New York City, NY', 'Seattle': 'Seattle, WA', 'Philadelphia': 'Philadelphia, PA'}           \n",
    "\n",
    "geocities = []\n",
    "\n",
    "for row in domestic_data['City']:\n",
    "    if row in dict_busy_cities:\n",
    "        geocities.append(dict_busy_cities[row])\n",
    "    else:\n",
    "        print('row', row)\n",
    "\n",
    "domestic_data['GeoCity'] = geocities"
   ]
  },
  {
   "cell_type": "markdown",
   "metadata": {},
   "source": [
    "The get_location function retrieves the latitude and longitude using the name of the city with the help of `geopandas`.\n",
    "\n",
    "`Note:` The below cell takes nearly 2 minutes to run as it is retrieving the `Longitude` and `Latitude` data. "
   ]
  },
  {
   "cell_type": "code",
   "execution_count": null,
   "metadata": {},
   "outputs": [],
   "source": [
    "from geopy.geocoders import Nominatim\n",
    "geolocator = Nominatim(user_agent=\"MyApp\")\n",
    "\n",
    "# define a function named get_location to get the lat/lon using geopy!\n",
    "def get_location(row):\n",
    "    location = geolocator.geocode(row.GeoCity)\n",
    "    return location.latitude, location.longitude\n",
    "\n",
    "domestic_data[['Latitude','Longitude']] = domestic_data.apply(get_location, axis=1, result_type = 'expand')\n",
    "# we need to tell pandas that we are getting more than one column, here\n",
    "# we need to expand the output into multiple column in our dataframe\n",
    "\n",
    "geo_domestic_data = gpd.GeoDataFrame(\n",
    "    domestic_data, geometry=gpd.points_from_xy(domestic_data.Longitude, domestic_data.Latitude)\n",
    ")\n",
    "geo_domestic_data[['Year', 'City','Current_City_Avg',\t'Infl_Adj_City_Avg' ,'DOMESTIC', 'INTERNATIONAL', 'TOTAL', 'GeoCity', 'Latitude','Longitude', 'geometry']]"
   ]
  },
  {
   "cell_type": "markdown",
   "metadata": {},
   "source": [
    "For this particular Geographical plot, we are considering the `Open Street Map`, which depicts the cities and the roadways"
   ]
  },
  {
   "cell_type": "code",
   "execution_count": null,
   "metadata": {},
   "outputs": [],
   "source": [
    "\n",
    "world = gv.tile_sources.OSM().opts(\n",
    "    height=480,\n",
    "    width=640\n",
    ")"
   ]
  },
  {
   "cell_type": "code",
   "execution_count": null,
   "metadata": {},
   "outputs": [],
   "source": [
    "geo_domestic_data.info()"
   ]
  },
  {
   "cell_type": "markdown",
   "metadata": {},
   "source": [
    "The hover tools helps to customize the values displayed when cursor hovers over the specific points.\n",
    "We have the `City Name` as `index`, `Longitude`, `Latitude` displayed corresponding to `Year` as description"
   ]
  },
  {
   "cell_type": "code",
   "execution_count": null,
   "metadata": {},
   "outputs": [],
   "source": [
    "\n",
    "hover = HoverTool(\n",
    "    tooltips=[\n",
    "            (\"City\", \"@City\"),\n",
    "            (\"Current_City_Avg\", \"$ @Current_City_Avg\"), \n",
    "            (\"Infl_Adj_City_Avg\", \"$ @Infl_Adj_City_Avg\"),\n",
    "            (\"Current_US_Avg\", \"$ @Current_US_Avg\"), \n",
    "            (\"Infl_Adj_US_Avg\", \"$ @Infl_Adj_US_Avg\")\n",
    "\n",
    "        ]\n",
    "    )\n",
    "\n",
    "legend = Legend(location = (0, -30))\n",
    "\n",
    "busy_geo = world * gv.Points(geo_domestic_data.iloc[100:105]).opts(\n",
    "    tools = [hover],\n",
    "    show_legend= True,\n",
    "    size = gv.dim('Current_City_Avg')/25,\n",
    "    color = 'Infl_Adj_City_Avg',\n",
    "    cmap='viridis',\n",
    "    height = 700,\n",
    "    width = 1000,\n",
    "    title = 'Inflation effect on Flight Prices [Busy Airports] 2022'\n",
    ")\n",
    "\n",
    "l_busy_geo = world * gv.Points(geo_domestic_data.iloc[-10:-5]).opts(\n",
    "    tools = [hover],\n",
    "    show_legend= True,\n",
    "    size = gv.dim('Current_City_Avg')/25,\n",
    "    color = 'Infl_Adj_City_Avg',\n",
    "    cmap='viridis',\n",
    "    height = 700,\n",
    "    width = 1000,\n",
    "    title = 'Inflation effect on Flight Prices [Less Busy Airports] 2022'\n",
    ")\n",
    "\n",
    "pn.Row(\n",
    "    busy_geo,\n",
    "    l_busy_geo\n",
    ")"
   ]
  },
  {
   "cell_type": "markdown",
   "metadata": {},
   "source": [
    "## Tabulator widget"
   ]
  },
  {
   "cell_type": "markdown",
   "metadata": {},
   "source": [
    "The `domestic_data` dataframe contains the complete international, domestic data across busy and less busy cities."
   ]
  },
  {
   "cell_type": "code",
   "execution_count": null,
   "metadata": {},
   "outputs": [],
   "source": [
    "domestic_data.info()"
   ]
  },
  {
   "cell_type": "code",
   "execution_count": null,
   "metadata": {},
   "outputs": [],
   "source": [
    "from bokeh.models.widgets.tables import NumberFormatter, DateFormatter\n",
    "\n",
    "bokeh_formatters = {\n",
    "    'float64': NumberFormatter(format='0.00'),\n",
    "    'int32': NumberFormatter(format='0000'),\n",
    "    'date': DateFormatter(format='%Y '),\n",
    "}"
   ]
  },
  {
   "cell_type": "code",
   "execution_count": null,
   "metadata": {},
   "outputs": [],
   "source": [
    "pn.extension('tabulator')\n",
    "domestic_data_tab = domestic_data[['Year', 'GeoCity', 'Current_City_Avg', 'Infl_Adj_City_Avg', 'DOMESTIC', 'INTERNATIONAL', 'TOTAL']]\n",
    "\n",
    "domestic_data_tb = pn.widgets.Tabulator(\n",
    "    domestic_data_tab,\n",
    "    page_size=10,\n",
    "    pagination='local',\n",
    "    selectable=True,\n",
    "    disabled=False\n",
    ")\n",
    "\n",
    "# provide a slider to filter out heroes with low pick counts\n",
    "pick_slider = pn.widgets.IntSlider(\n",
    "    name='Minimum Air Fare',\n",
    "    start=100,\n",
    "    end=int(domestic_data.Current_City_Avg.max()),\n",
    "    step=50\n",
    ")\n",
    "\n",
    "@pn.depends(pick_slider, watch=True)\n",
    "def filtered_hero_picks(value):\n",
    "    domestic_data_tb._filters = []\n",
    "    domestic_data_tb.add_filter((value, pick_slider.end), 'Current_City_Avg')\n",
    "\n",
    "pn.Column(pick_slider, domestic_data_tb)\n"
   ]
  },
  {
   "cell_type": "markdown",
   "metadata": {},
   "source": [
    "### Correlation coefficient"
   ]
  },
  {
   "cell_type": "markdown",
   "metadata": {},
   "source": [
    "The correlation coefficient coefficient between each of the columns in data is provided below."
   ]
  },
  {
   "cell_type": "markdown",
   "metadata": {},
   "source": [
    "#### INTERNATIONAL Passengers vs Current City Average on Airfare"
   ]
  },
  {
   "cell_type": "code",
   "execution_count": null,
   "metadata": {},
   "outputs": [],
   "source": [
    "np.corrcoef(domestic_data.INTERNATIONAL, domestic_data.Current_City_Avg)"
   ]
  },
  {
   "cell_type": "markdown",
   "metadata": {},
   "source": [
    "#### DOMESTIC Passengers vs Inflation adjusted City Average on Airfare"
   ]
  },
  {
   "cell_type": "code",
   "execution_count": null,
   "metadata": {},
   "outputs": [],
   "source": [
    "np.corrcoef(domestic_data.DOMESTIC, domestic_data.Infl_Adj_City_Avg)"
   ]
  },
  {
   "cell_type": "markdown",
   "metadata": {},
   "source": [
    "#### DOMESTIC Passengers vs Current City Average on Airfare"
   ]
  },
  {
   "cell_type": "code",
   "execution_count": null,
   "metadata": {},
   "outputs": [],
   "source": [
    "np.corrcoef(domestic_data.DOMESTIC, domestic_data.Current_City_Avg)"
   ]
  },
  {
   "cell_type": "markdown",
   "metadata": {},
   "source": [
    "#### INTERNATIONAL Passengers vs Inflation Adjusted City Average on Airfare"
   ]
  },
  {
   "cell_type": "code",
   "execution_count": null,
   "metadata": {},
   "outputs": [],
   "source": [
    "np.corrcoef(domestic_data.INTERNATIONAL, domestic_data.Infl_Adj_City_Avg)"
   ]
  },
  {
   "cell_type": "markdown",
   "metadata": {},
   "source": [
    "#### DOMESTIC Passengers vs Inflation Adjusted City Average on Airfare"
   ]
  },
  {
   "cell_type": "code",
   "execution_count": null,
   "metadata": {},
   "outputs": [],
   "source": [
    "np.corrcoef(domestic_data.TOTAL, domestic_data.Infl_Adj_City_Avg)"
   ]
  },
  {
   "cell_type": "markdown",
   "metadata": {},
   "source": [
    "#### DOMESTIC Passengers vs Current City Average on Airfare"
   ]
  },
  {
   "cell_type": "code",
   "execution_count": null,
   "metadata": {},
   "outputs": [],
   "source": [
    "np.corrcoef(domestic_data.TOTAL, domestic_data.Current_City_Avg)"
   ]
  },
  {
   "cell_type": "markdown",
   "metadata": {},
   "source": [
    "### Conclusion"
   ]
  },
  {
   "cell_type": "markdown",
   "metadata": {},
   "source": []
  }
 ],
 "metadata": {
  "kernelspec": {
   "display_name": "ruc-data-viz",
   "language": "python",
   "name": "python3"
  },
  "language_info": {
   "codemirror_mode": {
    "name": "ipython",
    "version": 3
   },
   "file_extension": ".py",
   "mimetype": "text/x-python",
   "name": "python",
   "nbconvert_exporter": "python",
   "pygments_lexer": "ipython3",
   "version": "3.11.6"
  }
 },
 "nbformat": 4,
 "nbformat_minor": 2
}
